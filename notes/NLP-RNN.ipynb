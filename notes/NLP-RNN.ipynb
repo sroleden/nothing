{
 "cells": [
  {
   "cell_type": "code",
   "execution_count": 1,
   "id": "8c076431",
   "metadata": {},
   "outputs": [],
   "source": [
    "from config.config import config"
   ]
  },
  {
   "cell_type": "code",
   "execution_count": 2,
   "id": "949e7743",
   "metadata": {},
   "outputs": [
    {
     "data": {
      "text/plain": [
       "'C:\\\\projects\\\\Kaggle_Projects\\\\notes'"
      ]
     },
     "execution_count": 2,
     "metadata": {},
     "output_type": "execute_result"
    }
   ],
   "source": [
    "config.project_path"
   ]
  },
  {
   "cell_type": "code",
   "execution_count": null,
   "id": "719f9d8e",
   "metadata": {},
   "outputs": [],
   "source": []
  }
 ],
 "metadata": {
  "kernelspec": {
   "display_name": "PyCharm (Explainable AI)",
   "language": "python",
   "name": "pycharm-63b57c3a"
  },
  "language_info": {
   "codemirror_mode": {
    "name": "ipython",
    "version": 3
   },
   "file_extension": ".py",
   "mimetype": "text/x-python",
   "name": "python",
   "nbconvert_exporter": "python",
   "pygments_lexer": "ipython3",
   "version": "3.8.10"
  }
 },
 "nbformat": 4,
 "nbformat_minor": 5
}
